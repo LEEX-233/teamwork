{
 "cells": [
  {
   "cell_type": "code",
   "execution_count": 1,
   "id": "ab02fd51-5c8e-493a-9200-2c295fdfee55",
   "metadata": {
    "jupyter": {
     "is_executing": true
    }
   },
   "outputs": [],
   "source": [
    "import os\n",
    "import numpy as np\n",
    "import logging\n",
    "from sklearn.decomposition import PCA\n",
    "from sklearn.naive_bayes import GaussianNB\n",
    "from sklearn.metrics import classification_report, confusion_matrix, accuracy_score, log_loss\n",
    "from sklearn.preprocessing import LabelEncoder\n",
    "import matplotlib.pyplot as plt\n",
    "from sklearn.model_selection import train_test_split\n",
    "from matplotlib.font_manager import FontProperties  \n",
    "from sklearn.ensemble import RandomForestClassifier\n",
    "from sklearn.tree import DecisionTreeClassifier\n",
    "\n",
    "# 设置日志记录器\n",
    "logging.basicConfig(level=logging.ERROR, format='%(asctime)s - %(levelname)s - %(message)s')\n",
    "\n",
    "# 加载单个图像的函数（已修改以包含错误处理）\n",
    "def load_image(img_id, rawdata_dir):\n",
    "    img_path = os.path.join(rawdata_dir, f'{img_id}')\n",
    "    try:\n",
    "        with open(img_path, 'rb') as img_file:\n",
    "            img_data = np.frombuffer(img_file.read(), dtype=np.uint8)\n",
    "        if img_data.size == 16384:\n",
    "            img_matrix = img_data.reshape((128, 128))\n",
    "            return img_matrix\n",
    "        else:\n",
    "            # 记录错误信息并返回一个占位图像（例如，全黑图像）\n",
    "            logging.error(f\"Expected 16384 bytes for image {img_id}, but got {img_data.size}. Using a placeholder image.\")\n",
    "            placeholder_image = np.zeros((128, 128), dtype=np.uint8)\n",
    "            return placeholder_image\n",
    "    except Exception as e:\n",
    "        # 记录无法读取文件时的错误信息并返回一个占位图像\n",
    "        logging.error(f\"Failed to load image {img_id} from {img_path}: {e}\")\n",
    "        placeholder_image = np.zeros((128, 128), dtype=np.uint8)\n",
    "        return placeholder_image\n",
    "\n",
    "# 读取数据的函数\n",
    "def load_data(filepath, rawdata_dir):\n",
    "    data = []\n",
    "    labels = []\n",
    "    with open(filepath, 'r') as file:\n",
    "        for line in file:\n",
    "            parts = line.strip().split()\n",
    "            img_id = int(parts[0])\n",
    "            gender = parts[1]\n",
    "            age = parts[2]\n",
    "            image = load_image(img_id, rawdata_dir)  # 使用 load_image 函数加载图像\n",
    "            data.append(image.flatten())  # 展平为向量\n",
    "            labels.append((gender, age))\n",
    "    return np.array(data), labels\n",
    "\n",
    "# 示例：加载数据\n",
    "rawdata_dir = 'rawdata'  # 替换为您的原始数据目录路径\n",
    "labels_filepath = 'cleared_faceDS.txt'  # 替换为您的标签文件路径\n",
    "data, labels = load_data(labels_filepath, rawdata_dir)\n",
    "\n"
   ]
  },
  {
   "cell_type": "code",
   "execution_count": 2,
   "id": "f6a94dbe-ad5c-4e21-a8ed-0b9a29f9f740",
   "metadata": {},
   "outputs": [
    {
     "name": "stderr",
     "output_type": "stream",
     "text": [
      "2025-01-09 17:44:57,519 - ERROR - Expected 16384 bytes for image 2412, but got 262144. Using a placeholder image.\n",
      "2025-01-09 17:44:57,523 - ERROR - Expected 16384 bytes for image 2416, but got 262144. Using a placeholder image.\n"
     ]
    }
   ],
   "source": [
    "# 加载训练和测试数据\n",
    "train_data, train_labels = load_data('cleared_faceDR.txt', 'rawdata')\n",
    "test_data, test_labels = load_data('cleared_faceDS.txt', 'rawdata')\n",
    "\n",
    "# 数据归一化\n",
    "def normalize_data(data):\n",
    "    return (data / 255.0).astype(np.float32)\n",
    " \n",
    "# 在加载数据后进行归一化\n",
    "train_data = normalize_data(train_data)\n",
    "test_data = normalize_data(test_data)\n",
    "\n",
    "# 标签编码\n",
    "gender_encoder = LabelEncoder()\n",
    "age_encoder = LabelEncoder()\n",
    "train_gender_labels = gender_encoder.fit_transform([label[0] for label in train_labels])\n",
    "train_age_labels = age_encoder.fit_transform([label[1] for label in train_labels])\n",
    "test_gender_labels = gender_encoder.transform([label[0] for label in test_labels])\n",
    "test_age_labels = age_encoder.transform([label[1] for label in test_labels])"
   ]
  },
  {
   "cell_type": "code",
   "execution_count": 3,
   "id": "563df148-7faa-49b2-bc9b-5b40220f7bf0",
   "metadata": {},
   "outputs": [],
   "source": [
    "# 合并所有训练数据\n",
    "X_train_all = np.array(train_data)\n",
    "\n",
    "# PCA降维\n",
    "n_components = 150  # 可以调整\n",
    "pca = PCA(n_components=n_components)\n",
    "X_train_pca = pca.fit_transform(X_train_all)\n",
    "# 将测试数据也进行PCA降维\n",
    "X_test_pca = pca.transform(test_data)"
   ]
  },
  {
   "cell_type": "code",
   "execution_count": 15,
   "id": "2e6e8c6c-97b7-4a5e-ace4-012d16cc1221",
   "metadata": {
    "scrolled": true
   },
   "outputs": [
    {
     "name": "stdout",
     "output_type": "stream",
     "text": [
      "性别识别准确率: 0.68\n",
      "年龄识别准确率: 0.34\n",
      "性别识别损失率: 0.70\n",
      "年龄识别损失率: 6.08\n",
      "\n",
      "性别识别分类报告：\n",
      "              precision    recall  f1-score   support\n",
      "\n",
      "     (female       0.55      0.66      0.60       719\n",
      "       (male       0.78      0.69      0.73      1277\n",
      "\n",
      "    accuracy                           0.68      1996\n",
      "   macro avg       0.67      0.68      0.67      1996\n",
      "weighted avg       0.70      0.68      0.69      1996\n",
      "\n",
      "\n",
      "年龄识别分类报告：\n",
      "              precision    recall  f1-score   support\n",
      "\n",
      "      adult)       0.83      0.35      0.49      1730\n",
      "      child)       0.16      0.18      0.17        68\n",
      "     senior)       0.20      0.39      0.27       115\n",
      "       teen)       0.02      0.24      0.04        83\n",
      "\n",
      "    accuracy                           0.34      1996\n",
      "   macro avg       0.30      0.29      0.24      1996\n",
      "weighted avg       0.74      0.34      0.45      1996\n",
      "\n"
     ]
    },
    {
     "data": {
      "image/png": "[encoded data removed]",
      "text/plain": [
       "<Figure size 1200x600 with 2 Axes>"
      ]
     },
     "metadata": {},
     "output_type": "display_data"
    }
   ],
   "source": [
    "# 训练朴素贝叶斯模型\n",
    "# 性别分类\n",
    "nb_gender = GaussianNB(var_smoothing=1e-9)\n",
    "nb_gender.fit(X_train_pca, train_gender_labels)\n",
    "\n",
    "# 年龄分类\n",
    "nb_age = GaussianNB(var_smoothing=1e-9)\n",
    "nb_age.fit(X_train_pca, train_age_labels, sample_weight=[class_weights_dict[label] for label in train_age_labels])\n",
    "\n",
    "# 预测\n",
    "gender_pred = nb_gender.predict(X_test_pca)\n",
    "age_pred = nb_age.predict(X_test_pca)\n",
    "\n",
    "# 计算准确率\n",
    "gender_accuracy = accuracy_score(test_gender_labels, gender_pred)\n",
    "age_accuracy = accuracy_score(test_age_labels, age_pred)\n",
    "\n",
    "# 计算损失率\n",
    "gender_loss = log_loss(test_gender_labels, nb_gender.predict_proba(X_test_pca))\n",
    "age_loss = log_loss(test_age_labels, nb_age.predict_proba(X_test_pca))\n",
    "\n",
    "# 输出结果\n",
    "print(f'性别识别准确率: {gender_accuracy:.2f}')\n",
    "print(f'年龄识别准确率: {age_accuracy:.2f}')\n",
    "print(f'性别识别损失率: {gender_loss:.2f}')\n",
    "print(f'年龄识别损失率: {age_loss:.2f}')\n",
    "\n",
    "# 生成分类报告\n",
    "print(\"\\n性别识别分类报告：\")\n",
    "print(classification_report(test_gender_labels, gender_pred, target_names=gender_encoder.classes_, zero_division=0))\n",
    "\n",
    "print(\"\\n年龄识别分类报告：\")\n",
    "print(classification_report(test_age_labels, age_pred, target_names=age_encoder.classes_, zero_division=0))\n",
    "\n",
    "# 设置支持中文的字体\n",
    "font = FontProperties(fname=r\"C:\\Windows\\Fonts\\simhei.ttf\", size=14)\n",
    "\n",
    "# 可视化结果\n",
    "plt.figure(figsize=(12, 6))\n",
    "\n",
    "# 性别分类结果\n",
    "plt.subplot(1, 2, 1)\n",
    "plt.bar(['准确率', '损失率'], [gender_accuracy, gender_loss])\n",
    "plt.title('性别识别结果', fontproperties=font)\n",
    "plt.ylabel('值', fontproperties=font)\n",
    "plt.xticks(fontproperties=font)  # 设置 x 轴标签字体\n",
    "plt.yticks(fontproperties=font)  # 设置 y 轴标签字体\n",
    "\n",
    "# 年龄分类结果\n",
    "plt.subplot(1, 2, 2)\n",
    "plt.bar(['准确率', '损失率'], [age_accuracy, age_loss])\n",
    "plt.title('年龄识别结果', fontproperties=font)\n",
    "plt.ylabel('值', fontproperties=font)\n",
    "plt.xticks(fontproperties=font)  # 设置 x 轴标签字体\n",
    "plt.yticks(fontproperties=font)  # 设置 y 轴标签字体\n",
    "\n",
    "plt.tight_layout()\n",
    "plt.show()"
   ]
  },
  {
   "cell_type": "code",
   "execution_count": null,
   "id": "2b0aacbd-f76e-4263-ba1d-a9d9eefa4fff",
   "metadata": {},
   "outputs": [],
   "source": [
    "\n"
   ]
  }
 ],
 "metadata": {
  "kernelspec": {
   "display_name": "Python 3 (ipykernel)",
   "language": "python",
   "name": "python3"
  },
  "language_info": {
   "codemirror_mode": {
    "name": "ipython",
    "version": 3
   },
   "file_extension": ".py",
   "mimetype": "text/x-python",
   "name": "python",
   "nbconvert_exporter": "python",
   "pygments_lexer": "ipython3",
   "version": "3.12.7"
  }
 },
 "nbformat": 4,
 "nbformat_minor": 5
}
